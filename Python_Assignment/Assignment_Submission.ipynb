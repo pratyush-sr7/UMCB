{
 "cells": [
  {
   "cell_type": "markdown",
   "id": "52949e3b-4883-48e5-ba47-1745126de652",
   "metadata": {
    "tags": []
   },
   "source": [
    "### Movie Assignment Dataset\n",
    "\n",
    "**Overview:** We will be loading the movies dataset into the dataframe and generate analytics around the data for better understanding and helpful in decision making for movies production industry"
   ]
  },
  {
   "cell_type": "markdown",
   "id": "02151a29-7e71-4714-bd12-1eebb2c98fb3",
   "metadata": {
    "tags": []
   },
   "source": [
    "#### Task 1: Import the data set into a Pandas DataFrame."
   ]
  },
  {
   "cell_type": "code",
   "execution_count": 1,
   "id": "442a342a-787c-4a7a-a4ba-fb6c24734c8d",
   "metadata": {},
   "outputs": [],
   "source": [
    "# Import the required modules\n",
    "import pandas as pd\n",
    "import numpy as np"
   ]
  },
  {
   "cell_type": "code",
   "execution_count": 2,
   "id": "336c9ce9-9d3b-4c9a-9e9a-6c711d53f38c",
   "metadata": {
    "tags": []
   },
   "outputs": [
    {
     "data": {
      "text/html": [
       "<div>\n",
       "<style scoped>\n",
       "    .dataframe tbody tr th:only-of-type {\n",
       "        vertical-align: middle;\n",
       "    }\n",
       "\n",
       "    .dataframe tbody tr th {\n",
       "        vertical-align: top;\n",
       "    }\n",
       "\n",
       "    .dataframe thead th {\n",
       "        text-align: right;\n",
       "    }\n",
       "</style>\n",
       "<table border=\"1\" class=\"dataframe\">\n",
       "  <thead>\n",
       "    <tr style=\"text-align: right;\">\n",
       "      <th></th>\n",
       "      <th>Title</th>\n",
       "      <th>title_year</th>\n",
       "      <th>budget</th>\n",
       "      <th>Gross</th>\n",
       "      <th>actor_1_name</th>\n",
       "      <th>actor_2_name</th>\n",
       "      <th>actor_3_name</th>\n",
       "      <th>actor_1_facebook_likes</th>\n",
       "      <th>actor_2_facebook_likes</th>\n",
       "      <th>actor_3_facebook_likes</th>\n",
       "      <th>...</th>\n",
       "      <th>Votes3044M</th>\n",
       "      <th>Votes3044F</th>\n",
       "      <th>Votes45A</th>\n",
       "      <th>Votes45AM</th>\n",
       "      <th>Votes45AF</th>\n",
       "      <th>Votes1000</th>\n",
       "      <th>VotesUS</th>\n",
       "      <th>VotesnUS</th>\n",
       "      <th>content_rating</th>\n",
       "      <th>Country</th>\n",
       "    </tr>\n",
       "  </thead>\n",
       "  <tbody>\n",
       "    <tr>\n",
       "      <th>0</th>\n",
       "      <td>La La Land</td>\n",
       "      <td>2016</td>\n",
       "      <td>30000000</td>\n",
       "      <td>151101803</td>\n",
       "      <td>Ryan Gosling</td>\n",
       "      <td>Emma Stone</td>\n",
       "      <td>Amiée Conn</td>\n",
       "      <td>14000</td>\n",
       "      <td>19000.0</td>\n",
       "      <td>NaN</td>\n",
       "      <td>...</td>\n",
       "      <td>7.9</td>\n",
       "      <td>7.8</td>\n",
       "      <td>7.6</td>\n",
       "      <td>7.6</td>\n",
       "      <td>7.5</td>\n",
       "      <td>7.1</td>\n",
       "      <td>8.3</td>\n",
       "      <td>8.1</td>\n",
       "      <td>PG-13</td>\n",
       "      <td>USA</td>\n",
       "    </tr>\n",
       "    <tr>\n",
       "      <th>1</th>\n",
       "      <td>Zootopia</td>\n",
       "      <td>2016</td>\n",
       "      <td>150000000</td>\n",
       "      <td>341268248</td>\n",
       "      <td>Ginnifer Goodwin</td>\n",
       "      <td>Jason Bateman</td>\n",
       "      <td>Idris Elba</td>\n",
       "      <td>2800</td>\n",
       "      <td>28000.0</td>\n",
       "      <td>27000.0</td>\n",
       "      <td>...</td>\n",
       "      <td>7.8</td>\n",
       "      <td>8.1</td>\n",
       "      <td>7.8</td>\n",
       "      <td>7.8</td>\n",
       "      <td>8.1</td>\n",
       "      <td>7.6</td>\n",
       "      <td>8.0</td>\n",
       "      <td>8.0</td>\n",
       "      <td>PG</td>\n",
       "      <td>USA</td>\n",
       "    </tr>\n",
       "    <tr>\n",
       "      <th>2</th>\n",
       "      <td>Lion</td>\n",
       "      <td>2016</td>\n",
       "      <td>12000000</td>\n",
       "      <td>51738905</td>\n",
       "      <td>Dev Patel</td>\n",
       "      <td>Nicole Kidman</td>\n",
       "      <td>Rooney Mara</td>\n",
       "      <td>33000</td>\n",
       "      <td>96000.0</td>\n",
       "      <td>9800.0</td>\n",
       "      <td>...</td>\n",
       "      <td>7.9</td>\n",
       "      <td>8.2</td>\n",
       "      <td>8.0</td>\n",
       "      <td>7.9</td>\n",
       "      <td>8.4</td>\n",
       "      <td>7.1</td>\n",
       "      <td>8.1</td>\n",
       "      <td>8.0</td>\n",
       "      <td>PG-13</td>\n",
       "      <td>Australia</td>\n",
       "    </tr>\n",
       "  </tbody>\n",
       "</table>\n",
       "<p>3 rows × 62 columns</p>\n",
       "</div>"
      ],
      "text/plain": [
       "        Title  title_year     budget      Gross      actor_1_name  \\\n",
       "0  La La Land        2016   30000000  151101803      Ryan Gosling   \n",
       "1    Zootopia        2016  150000000  341268248  Ginnifer Goodwin   \n",
       "2        Lion        2016   12000000   51738905         Dev Patel   \n",
       "\n",
       "    actor_2_name actor_3_name  actor_1_facebook_likes  actor_2_facebook_likes  \\\n",
       "0     Emma Stone   Amiée Conn                   14000                 19000.0   \n",
       "1  Jason Bateman   Idris Elba                    2800                 28000.0   \n",
       "2  Nicole Kidman  Rooney Mara                   33000                 96000.0   \n",
       "\n",
       "   actor_3_facebook_likes  ...  Votes3044M Votes3044F Votes45A Votes45AM  \\\n",
       "0                     NaN  ...         7.9        7.8      7.6       7.6   \n",
       "1                 27000.0  ...         7.8        8.1      7.8       7.8   \n",
       "2                  9800.0  ...         7.9        8.2      8.0       7.9   \n",
       "\n",
       "   Votes45AF  Votes1000  VotesUS  VotesnUS  content_rating    Country  \n",
       "0        7.5        7.1      8.3       8.1           PG-13        USA  \n",
       "1        8.1        7.6      8.0       8.0              PG        USA  \n",
       "2        8.4        7.1      8.1       8.0           PG-13  Australia  \n",
       "\n",
       "[3 rows x 62 columns]"
      ]
     },
     "execution_count": 2,
     "metadata": {},
     "output_type": "execute_result"
    }
   ],
   "source": [
    "# Load data from CSV to df\n",
    "df = pd.read_csv('Movie Assignment Data.csv')\n",
    "df.head(3)"
   ]
  },
  {
   "cell_type": "markdown",
   "id": "b8180063-ddee-490a-83b3-67a912a61646",
   "metadata": {
    "tags": []
   },
   "source": [
    "#### Task 2: Generate descriptive statistics for the budget of all the movies.**"
   ]
  },
  {
   "cell_type": "code",
   "execution_count": 3,
   "id": "174876c2-9874-414f-ae0e-45dc31cc2134",
   "metadata": {
    "tags": []
   },
   "outputs": [
    {
     "data": {
      "text/plain": [
       "count    1.000000e+02\n",
       "mean     7.838400e+07\n",
       "std      7.445295e+07\n",
       "min      3.000000e+06\n",
       "25%      1.575000e+07\n",
       "50%      4.225000e+07\n",
       "75%      1.500000e+08\n",
       "max      2.600000e+08\n",
       "Name: budget, dtype: float64"
      ]
     },
     "execution_count": 3,
     "metadata": {},
     "output_type": "execute_result"
    }
   ],
   "source": [
    "# Generate descriptive stats for the budget column in df\n",
    "df['budget'].describe()"
   ]
  },
  {
   "cell_type": "markdown",
   "id": "ab6f06ad-19ca-4e1c-bc6a-57a661672790",
   "metadata": {
    "tags": []
   },
   "source": [
    "#### Task 3: Find out how many of the top-rated movies produced in the United States have a PG-13 rating."
   ]
  },
  {
   "cell_type": "code",
   "execution_count": 4,
   "id": "c490d642-5990-4b20-bda2-251eec858094",
   "metadata": {
    "tags": []
   },
   "outputs": [
    {
     "name": "stdout",
     "output_type": "stream",
     "text": [
      "Number of movies produced in USA with a PG-13 rating: 35\n"
     ]
    }
   ],
   "source": [
    "# Define the country and rating you want to check\n",
    "country = 'USA'\n",
    "rating = 'PG-13'\n",
    "\n",
    "# Count the number of movies produced in the specified country with the specified rating\n",
    "count = ((df['Country'] == country) & (df['content_rating'] == rating)).sum()\n",
    "\n",
    "# Print the result\n",
    "print(f\"Number of movies produced in {country} with a {rating} rating: {count}\")"
   ]
  },
  {
   "cell_type": "markdown",
   "id": "9b1bfcc3-abf1-4fe2-adcc-b6dbaaaf29ba",
   "metadata": {},
   "source": [
    "#### Task 4: Find out whether any of the top-rated movies produced in 2014 were not produced in the United States."
   ]
  },
  {
   "cell_type": "code",
   "execution_count": 5,
   "id": "d6b88663-90c1-4604-869d-60a411c87089",
   "metadata": {
    "tags": []
   },
   "outputs": [
    {
     "name": "stdout",
     "output_type": "stream",
     "text": [
      "Were there any of the top-rated movies produced in 2014 that were not produced in the USA: True\n"
     ]
    }
   ],
   "source": [
    "# Check if there are any top-rated movies produced in 2014 that were not produced in the USA\n",
    "result = ((df['title_year'] == 2014) & (df['Country'] != 'USA')).any()\n",
    "\n",
    "# Print the result as a boolean value\n",
    "print(f\"Were there any of the top-rated movies produced in 2014 that were not produced in the USA: {result}\")"
   ]
  },
  {
   "cell_type": "markdown",
   "id": "f88f2fc4-d1ce-4fb3-9ea4-55bb4881c776",
   "metadata": {
    "tags": []
   },
   "source": [
    "#### Find the percentage of the top-rated movies that are in \n",
    "- #### 1 genre only \n",
    "- #### 2 genre only\n",
    "- #### 3 genre only"
   ]
  },
  {
   "cell_type": "code",
   "execution_count": 6,
   "id": "445dd825-7174-4320-99ba-96b8909bb5da",
   "metadata": {
    "tags": []
   },
   "outputs": [
    {
     "name": "stdout",
     "output_type": "stream",
     "text": [
      "The percentage of top-rated movies with a single genre: 3.00%\n"
     ]
    }
   ],
   "source": [
    "# Task 5(a): Calculate the percentage of top-rated movies that belong to a single genre.\n",
    "\n",
    "# Get the total number of top-rated movies in the DataFrame\n",
    "total_movies = len(df)\n",
    "\n",
    "# Count the number of movies with a single genre by checking if genre_1 is not null while genre_2 and genre_3 are null\n",
    "single_genre_movies = ((df['genre_1'].notna()) & (df['genre_2'].isna()) & (df['genre_3'].isna())).sum()\n",
    "\n",
    "# Calculate the percentage of movies with a single genre\n",
    "percentage_single_genre = (single_genre_movies / total_movies) * 100\n",
    "\n",
    "# Print the percentage with two decimal places\n",
    "print(f\"The percentage of top-rated movies with a single genre: {percentage_single_genre:.2f}%\")\n"
   ]
  },
  {
   "cell_type": "code",
   "execution_count": 7,
   "id": "7e8ac172-8467-411a-b9c1-d94f558c576d",
   "metadata": {
    "tags": []
   },
   "outputs": [
    {
     "name": "stdout",
     "output_type": "stream",
     "text": [
      "The percentage of top-rated movies with exactly two genres: 23.00%\n"
     ]
    }
   ],
   "source": [
    "# Task 5(b): Calculate the percentage of top-rated movies that belong to exactly two genres.\n",
    "\n",
    "# Get the total number of top-rated movies in the DataFrame\n",
    "total_movies = len(df)\n",
    "\n",
    "# Count the number of movies with exactly two genres by checking different combinations of genre columns\n",
    "two_genre_movies = df.loc[\n",
    "    ((df['genre_1'].notna() & df['genre_2'].notna() & df['genre_3'].isna()) |\n",
    "     (df['genre_1'].notna() & df['genre_2'].isna() & df['genre_3'].notna()) |\n",
    "     (df['genre_1'].isna() & df['genre_2'].notna() & df['genre_3'].notna())),\n",
    "    'Title'\n",
    "].count()\n",
    "\n",
    "# Calculate the percentage of movies with exactly two genres\n",
    "percentage_two_genres = (two_genre_movies / total_movies) * 100\n",
    "\n",
    "# Print the percentage with two decimal places\n",
    "print(f\"The percentage of top-rated movies with exactly two genres: {percentage_two_genres:.2f}%\")"
   ]
  },
  {
   "cell_type": "code",
   "execution_count": 8,
   "id": "0c08ee15-9985-401a-904d-c4ac7767f438",
   "metadata": {
    "tags": []
   },
   "outputs": [
    {
     "name": "stdout",
     "output_type": "stream",
     "text": [
      "The percentage of top-rated movies with exactly three genres: 74.00%\n"
     ]
    }
   ],
   "source": [
    "# Task 5(c): Calculate the percentage of top-rated movies that belong to exactly three genres.\n",
    "\n",
    "# Count the number of movies with exactly three genres by checking if all genre columns are not empty (notna)\n",
    "movies_with_three_genres = (df['genre_1'].notna() & df['genre_2'].notna() & df['genre_3'].notna()).sum()\n",
    "\n",
    "# Get the total number of top-rated movies in the DataFrame\n",
    "total_movies = len(df)\n",
    "\n",
    "# Calculate the percentage of movies with exactly three genres\n",
    "percentage_three_genres = (movies_with_three_genres / total_movies) * 100\n",
    "\n",
    "# Print the percentage with two decimal places\n",
    "print(f\"The percentage of top-rated movies with exactly three genres: {percentage_three_genres:.2f}%\")"
   ]
  },
  {
   "cell_type": "markdown",
   "id": "b6f1c623-7bde-4317-aa9b-5ee51acba524",
   "metadata": {},
   "source": [
    "#### Task 6: Convert the budget and gross values from “dollars” to “dollars in millions” for all top-rated movies. Round the converted values down to 3 decimal places. For example, a value of 192,345,273 should be converted to 192.345."
   ]
  },
  {
   "cell_type": "code",
   "execution_count": 9,
   "id": "d201be35-a4ce-4d70-93e6-47a2c149700c",
   "metadata": {
    "tags": []
   },
   "outputs": [],
   "source": [
    "# Convert the 'budget' column from a larger unit (e.g., millions) to a smaller unit (e.g., millions of dollars)\n",
    "df['budget'] = round(df['budget'] * 0.000001, 3)\n",
    "\n",
    "# Convert the 'Gross' column from a larger unit (e.g., millions) to a smaller unit (e.g., millions of dollars)\n",
    "df['Gross'] = round(df['Gross'] * 0.000001, 3)"
   ]
  },
  {
   "cell_type": "markdown",
   "id": "147a3f4f-3683-4ca6-851b-978848fdf887",
   "metadata": {},
   "source": [
    "#### Task 7: List all details for the top 10 movies with the highest profit, sorted from highest to lowest. Hint: Profit is not a column in the DataFrame. You will need to calculate it."
   ]
  },
  {
   "cell_type": "code",
   "execution_count": 10,
   "id": "56bd7f4f-edcf-462c-b257-ab859cc523f8",
   "metadata": {
    "tags": []
   },
   "outputs": [
    {
     "name": "stdout",
     "output_type": "stream",
     "text": [
      "Top 10 Most Profitable Movies:\n"
     ]
    },
    {
     "data": {
      "text/html": [
       "<div>\n",
       "<style scoped>\n",
       "    .dataframe tbody tr th:only-of-type {\n",
       "        vertical-align: middle;\n",
       "    }\n",
       "\n",
       "    .dataframe tbody tr th {\n",
       "        vertical-align: top;\n",
       "    }\n",
       "\n",
       "    .dataframe thead th {\n",
       "        text-align: right;\n",
       "    }\n",
       "</style>\n",
       "<table border=\"1\" class=\"dataframe\">\n",
       "  <thead>\n",
       "    <tr style=\"text-align: right;\">\n",
       "      <th></th>\n",
       "      <th>Title</th>\n",
       "      <th>title_year</th>\n",
       "      <th>budget</th>\n",
       "      <th>Gross</th>\n",
       "      <th>actor_1_name</th>\n",
       "      <th>actor_2_name</th>\n",
       "      <th>actor_3_name</th>\n",
       "      <th>actor_1_facebook_likes</th>\n",
       "      <th>actor_2_facebook_likes</th>\n",
       "      <th>actor_3_facebook_likes</th>\n",
       "      <th>...</th>\n",
       "      <th>Votes3044F</th>\n",
       "      <th>Votes45A</th>\n",
       "      <th>Votes45AM</th>\n",
       "      <th>Votes45AF</th>\n",
       "      <th>Votes1000</th>\n",
       "      <th>VotesUS</th>\n",
       "      <th>VotesnUS</th>\n",
       "      <th>content_rating</th>\n",
       "      <th>Country</th>\n",
       "      <th>Profit</th>\n",
       "    </tr>\n",
       "  </thead>\n",
       "  <tbody>\n",
       "    <tr>\n",
       "      <th>97</th>\n",
       "      <td>Star Wars: Episode VII - The Force Awakens</td>\n",
       "      <td>2015</td>\n",
       "      <td>245.0</td>\n",
       "      <td>936.662</td>\n",
       "      <td>Doug Walker</td>\n",
       "      <td>Rob Walker</td>\n",
       "      <td>0</td>\n",
       "      <td>131</td>\n",
       "      <td>12.0</td>\n",
       "      <td>0.0</td>\n",
       "      <td>...</td>\n",
       "      <td>8.2</td>\n",
       "      <td>7.9</td>\n",
       "      <td>7.8</td>\n",
       "      <td>8.2</td>\n",
       "      <td>7.7</td>\n",
       "      <td>8.2</td>\n",
       "      <td>7.9</td>\n",
       "      <td>PG-13</td>\n",
       "      <td>USA</td>\n",
       "      <td>691.662</td>\n",
       "    </tr>\n",
       "    <tr>\n",
       "      <th>11</th>\n",
       "      <td>The Avengers</td>\n",
       "      <td>2012</td>\n",
       "      <td>220.0</td>\n",
       "      <td>623.280</td>\n",
       "      <td>Chris Hemsworth</td>\n",
       "      <td>Robert Downey Jr.</td>\n",
       "      <td>Scarlett Johansson</td>\n",
       "      <td>26000</td>\n",
       "      <td>21000.0</td>\n",
       "      <td>19000.0</td>\n",
       "      <td>...</td>\n",
       "      <td>8.1</td>\n",
       "      <td>7.9</td>\n",
       "      <td>7.9</td>\n",
       "      <td>8.1</td>\n",
       "      <td>7.4</td>\n",
       "      <td>8.3</td>\n",
       "      <td>7.9</td>\n",
       "      <td>PG-13</td>\n",
       "      <td>USA</td>\n",
       "      <td>403.280</td>\n",
       "    </tr>\n",
       "    <tr>\n",
       "      <th>47</th>\n",
       "      <td>Deadpool</td>\n",
       "      <td>2016</td>\n",
       "      <td>58.0</td>\n",
       "      <td>363.024</td>\n",
       "      <td>Ryan Reynolds</td>\n",
       "      <td>Ed Skrein</td>\n",
       "      <td>Stefan Kapicic</td>\n",
       "      <td>16000</td>\n",
       "      <td>805.0</td>\n",
       "      <td>361.0</td>\n",
       "      <td>...</td>\n",
       "      <td>7.9</td>\n",
       "      <td>7.8</td>\n",
       "      <td>7.8</td>\n",
       "      <td>7.9</td>\n",
       "      <td>7.3</td>\n",
       "      <td>8.1</td>\n",
       "      <td>7.9</td>\n",
       "      <td>R</td>\n",
       "      <td>USA</td>\n",
       "      <td>305.024</td>\n",
       "    </tr>\n",
       "    <tr>\n",
       "      <th>32</th>\n",
       "      <td>The Hunger Games: Catching Fire</td>\n",
       "      <td>2013</td>\n",
       "      <td>130.0</td>\n",
       "      <td>424.646</td>\n",
       "      <td>Jennifer Lawrence</td>\n",
       "      <td>Josh Hutcherson</td>\n",
       "      <td>Sandra Ellis Lafferty</td>\n",
       "      <td>34000</td>\n",
       "      <td>14000.0</td>\n",
       "      <td>523.0</td>\n",
       "      <td>...</td>\n",
       "      <td>7.9</td>\n",
       "      <td>7.3</td>\n",
       "      <td>7.2</td>\n",
       "      <td>7.9</td>\n",
       "      <td>6.7</td>\n",
       "      <td>7.7</td>\n",
       "      <td>7.4</td>\n",
       "      <td>PG-13</td>\n",
       "      <td>USA</td>\n",
       "      <td>294.646</td>\n",
       "    </tr>\n",
       "    <tr>\n",
       "      <th>12</th>\n",
       "      <td>Toy Story 3</td>\n",
       "      <td>2010</td>\n",
       "      <td>200.0</td>\n",
       "      <td>414.984</td>\n",
       "      <td>Tom Hanks</td>\n",
       "      <td>John Ratzenberger</td>\n",
       "      <td>Don Rickles</td>\n",
       "      <td>15000</td>\n",
       "      <td>1000.0</td>\n",
       "      <td>721.0</td>\n",
       "      <td>...</td>\n",
       "      <td>8.3</td>\n",
       "      <td>8.1</td>\n",
       "      <td>8.1</td>\n",
       "      <td>8.1</td>\n",
       "      <td>8.1</td>\n",
       "      <td>8.5</td>\n",
       "      <td>8.3</td>\n",
       "      <td>G</td>\n",
       "      <td>USA</td>\n",
       "      <td>214.984</td>\n",
       "    </tr>\n",
       "    <tr>\n",
       "      <th>8</th>\n",
       "      <td>The Dark Knight Rises</td>\n",
       "      <td>2012</td>\n",
       "      <td>250.0</td>\n",
       "      <td>448.131</td>\n",
       "      <td>Tom Hardy</td>\n",
       "      <td>Christian Bale</td>\n",
       "      <td>Joseph Gordon-Levitt</td>\n",
       "      <td>27000</td>\n",
       "      <td>23000.0</td>\n",
       "      <td>23000.0</td>\n",
       "      <td>...</td>\n",
       "      <td>8.2</td>\n",
       "      <td>7.9</td>\n",
       "      <td>7.9</td>\n",
       "      <td>7.9</td>\n",
       "      <td>7.8</td>\n",
       "      <td>8.4</td>\n",
       "      <td>8.4</td>\n",
       "      <td>PG-13</td>\n",
       "      <td>USA</td>\n",
       "      <td>198.131</td>\n",
       "    </tr>\n",
       "    <tr>\n",
       "      <th>45</th>\n",
       "      <td>The Lego Movie</td>\n",
       "      <td>2014</td>\n",
       "      <td>60.0</td>\n",
       "      <td>257.756</td>\n",
       "      <td>Morgan Freeman</td>\n",
       "      <td>Will Ferrell</td>\n",
       "      <td>Alison Brie</td>\n",
       "      <td>11000</td>\n",
       "      <td>8000.0</td>\n",
       "      <td>2000.0</td>\n",
       "      <td>...</td>\n",
       "      <td>7.5</td>\n",
       "      <td>7.4</td>\n",
       "      <td>7.4</td>\n",
       "      <td>7.4</td>\n",
       "      <td>7.2</td>\n",
       "      <td>8.0</td>\n",
       "      <td>7.6</td>\n",
       "      <td>PG</td>\n",
       "      <td>Australia</td>\n",
       "      <td>197.756</td>\n",
       "    </tr>\n",
       "    <tr>\n",
       "      <th>1</th>\n",
       "      <td>Zootopia</td>\n",
       "      <td>2016</td>\n",
       "      <td>150.0</td>\n",
       "      <td>341.268</td>\n",
       "      <td>Ginnifer Goodwin</td>\n",
       "      <td>Jason Bateman</td>\n",
       "      <td>Idris Elba</td>\n",
       "      <td>2800</td>\n",
       "      <td>28000.0</td>\n",
       "      <td>27000.0</td>\n",
       "      <td>...</td>\n",
       "      <td>8.1</td>\n",
       "      <td>7.8</td>\n",
       "      <td>7.8</td>\n",
       "      <td>8.1</td>\n",
       "      <td>7.6</td>\n",
       "      <td>8.0</td>\n",
       "      <td>8.0</td>\n",
       "      <td>PG</td>\n",
       "      <td>USA</td>\n",
       "      <td>191.268</td>\n",
       "    </tr>\n",
       "    <tr>\n",
       "      <th>41</th>\n",
       "      <td>Despicable Me</td>\n",
       "      <td>2010</td>\n",
       "      <td>69.0</td>\n",
       "      <td>251.502</td>\n",
       "      <td>Steve Carell</td>\n",
       "      <td>Miranda Cosgrove</td>\n",
       "      <td>Jack McBrayer</td>\n",
       "      <td>7000</td>\n",
       "      <td>2000.0</td>\n",
       "      <td>975.0</td>\n",
       "      <td>...</td>\n",
       "      <td>7.9</td>\n",
       "      <td>7.6</td>\n",
       "      <td>7.5</td>\n",
       "      <td>7.9</td>\n",
       "      <td>7.0</td>\n",
       "      <td>7.6</td>\n",
       "      <td>7.6</td>\n",
       "      <td>PG</td>\n",
       "      <td>USA</td>\n",
       "      <td>182.502</td>\n",
       "    </tr>\n",
       "    <tr>\n",
       "      <th>18</th>\n",
       "      <td>Inside Out</td>\n",
       "      <td>2015</td>\n",
       "      <td>175.0</td>\n",
       "      <td>356.454</td>\n",
       "      <td>Amy Poehler</td>\n",
       "      <td>Mindy Kaling</td>\n",
       "      <td>Phyllis Smith</td>\n",
       "      <td>1000</td>\n",
       "      <td>767.0</td>\n",
       "      <td>384.0</td>\n",
       "      <td>...</td>\n",
       "      <td>8.1</td>\n",
       "      <td>7.9</td>\n",
       "      <td>7.9</td>\n",
       "      <td>7.9</td>\n",
       "      <td>7.6</td>\n",
       "      <td>8.2</td>\n",
       "      <td>8.1</td>\n",
       "      <td>PG</td>\n",
       "      <td>USA</td>\n",
       "      <td>181.454</td>\n",
       "    </tr>\n",
       "  </tbody>\n",
       "</table>\n",
       "<p>10 rows × 63 columns</p>\n",
       "</div>"
      ],
      "text/plain": [
       "                                         Title  title_year  budget    Gross  \\\n",
       "97  Star Wars: Episode VII - The Force Awakens        2015   245.0  936.662   \n",
       "11                                The Avengers        2012   220.0  623.280   \n",
       "47                                    Deadpool        2016    58.0  363.024   \n",
       "32             The Hunger Games: Catching Fire        2013   130.0  424.646   \n",
       "12                                 Toy Story 3        2010   200.0  414.984   \n",
       "8                        The Dark Knight Rises        2012   250.0  448.131   \n",
       "45                              The Lego Movie        2014    60.0  257.756   \n",
       "1                                     Zootopia        2016   150.0  341.268   \n",
       "41                               Despicable Me        2010    69.0  251.502   \n",
       "18                                  Inside Out        2015   175.0  356.454   \n",
       "\n",
       "         actor_1_name       actor_2_name           actor_3_name  \\\n",
       "97        Doug Walker         Rob Walker                      0   \n",
       "11    Chris Hemsworth  Robert Downey Jr.     Scarlett Johansson   \n",
       "47      Ryan Reynolds          Ed Skrein         Stefan Kapicic   \n",
       "32  Jennifer Lawrence    Josh Hutcherson  Sandra Ellis Lafferty   \n",
       "12          Tom Hanks  John Ratzenberger            Don Rickles   \n",
       "8           Tom Hardy     Christian Bale   Joseph Gordon-Levitt   \n",
       "45     Morgan Freeman       Will Ferrell            Alison Brie   \n",
       "1    Ginnifer Goodwin      Jason Bateman             Idris Elba   \n",
       "41       Steve Carell   Miranda Cosgrove          Jack McBrayer   \n",
       "18        Amy Poehler       Mindy Kaling          Phyllis Smith   \n",
       "\n",
       "    actor_1_facebook_likes  actor_2_facebook_likes  actor_3_facebook_likes  \\\n",
       "97                     131                    12.0                     0.0   \n",
       "11                   26000                 21000.0                 19000.0   \n",
       "47                   16000                   805.0                   361.0   \n",
       "32                   34000                 14000.0                   523.0   \n",
       "12                   15000                  1000.0                   721.0   \n",
       "8                    27000                 23000.0                 23000.0   \n",
       "45                   11000                  8000.0                  2000.0   \n",
       "1                     2800                 28000.0                 27000.0   \n",
       "41                    7000                  2000.0                   975.0   \n",
       "18                    1000                   767.0                   384.0   \n",
       "\n",
       "    ...  Votes3044F Votes45A Votes45AM Votes45AF  Votes1000  VotesUS  \\\n",
       "97  ...         8.2      7.9       7.8       8.2        7.7      8.2   \n",
       "11  ...         8.1      7.9       7.9       8.1        7.4      8.3   \n",
       "47  ...         7.9      7.8       7.8       7.9        7.3      8.1   \n",
       "32  ...         7.9      7.3       7.2       7.9        6.7      7.7   \n",
       "12  ...         8.3      8.1       8.1       8.1        8.1      8.5   \n",
       "8   ...         8.2      7.9       7.9       7.9        7.8      8.4   \n",
       "45  ...         7.5      7.4       7.4       7.4        7.2      8.0   \n",
       "1   ...         8.1      7.8       7.8       8.1        7.6      8.0   \n",
       "41  ...         7.9      7.6       7.5       7.9        7.0      7.6   \n",
       "18  ...         8.1      7.9       7.9       7.9        7.6      8.2   \n",
       "\n",
       "    VotesnUS  content_rating    Country   Profit  \n",
       "97       7.9           PG-13        USA  691.662  \n",
       "11       7.9           PG-13        USA  403.280  \n",
       "47       7.9               R        USA  305.024  \n",
       "32       7.4           PG-13        USA  294.646  \n",
       "12       8.3               G        USA  214.984  \n",
       "8        8.4           PG-13        USA  198.131  \n",
       "45       7.6              PG  Australia  197.756  \n",
       "1        8.0              PG        USA  191.268  \n",
       "41       7.6              PG        USA  182.502  \n",
       "18       8.1              PG        USA  181.454  \n",
       "\n",
       "[10 rows x 63 columns]"
      ]
     },
     "execution_count": 10,
     "metadata": {},
     "output_type": "execute_result"
    }
   ],
   "source": [
    "# Calculate the profit for each movie and add it as a new column 'Profit' in the DataFrame\n",
    "df['Profit'] = df['Gross'] - df['budget']\n",
    "\n",
    "# Sort the DataFrame by 'Profit' in descending order to find the top 10 most profitable movies\n",
    "top_profitable_movies = df.sort_values(by='Profit', ascending=False).head(10)\n",
    "\n",
    "# Display the top 10 movies with the highest profit\n",
    "print(\"Top 10 Most Profitable Movies:\")\n",
    "top_profitable_movies.head(10)"
   ]
  },
  {
   "cell_type": "markdown",
   "id": "27cc9239-e46d-47ed-805b-b940b50ec652",
   "metadata": {},
   "source": [
    "#### Task 8: Generate a list of all the actors, in alphabetical order by the first name, that have starred in a top-rated movie. If an actor has starred in multiple movies, their name should appear only once on the list. Assume that all actors’ names are in the format <first_name> <last_name>."
   ]
  },
  {
   "cell_type": "code",
   "execution_count": 11,
   "id": "cba50fc9-dcf0-485a-bfb9-3abf3f2659ee",
   "metadata": {
    "tags": []
   },
   "outputs": [
    {
     "name": "stdout",
     "output_type": "stream",
     "text": [
      "List of all actors in top-rated movies (sorted by first name):\n",
      "['Abraham Benrubi', 'Adam Brown', 'Aidan Quinn', 'Aidan Turner', 'Albert Brooks', 'Albert Finney', 'Aldis Hodge', 'Alexandra Maria Lara', 'Alfred Enoch', 'Alison Brie', 'Allen Leech', 'America Ferrera', 'Amiée Conn', 'Amy Adams', 'Amy Poehler', 'Amy Ryan', 'Amy Warren', 'Andrew Garfield', 'Anna Kendrick', 'Anne Hathaway', 'Ariane Labed', 'Athina Rachel Tsangari', 'Ato Essandoh', 'Audrey Fleurot', 'Basher Savage', 'Ben Foster', 'Benedict Cumberbatch', 'Benedict Wong', 'Bernardo Saracino', 'Beth Grant', 'Bill Murray', 'Billy Crudup', 'Bob Balaban', 'Brad Garrett', 'Brad Pitt', 'Bradley Cooper', 'Brian Johnson', \"Brian d'Arcy James\", 'Bruce Dern', 'Bruce Green', 'Bruce Greenwood', 'Bruce Willis', 'Bryce Dallas Howard', 'BÃ©rÃ©nice Bejo', 'Casey Affleck', 'Charlie Talbert', 'Charlize Theron', 'Chelan Simmons', 'Chiwetel Ejiofor', 'ChloÃ« Grace Moretz', 'Chris Evans', 'Chris Hemsworth', 'Chris Mulkey', 'Chris Pine', 'Christian Bale', 'Christoph Waltz', 'Christopher Lee', 'Clea DuVall', 'Colin Firth', 'Corey Johnson', 'Craig Ferguson', 'Damon Wayans Jr.', 'Dan Bilzerian', 'Daniel Henney', 'Daniel Kaluuya', 'David Oyelowo', 'Deborah Twiss', \"Denis O'Hare\", 'Derek Jacobi', 'Dev Patel', 'Devin Ratray', 'Djimon Hounsou', 'Don Rickles', 'Donald Glover', 'Donna Murphy', 'Doug Walker', 'Dustin Fitzsimons', 'Dylan Minnette', 'Ed Lauter', 'Ed Skrein', 'Eddie Redmayne', 'Edgar Arreola', 'Elina Alminas', 'Elizabeth McGovern', 'Ellar Coltrane', 'Ellen Wong', 'Emily Ratajkowski', 'Emily Watson', 'Emma Stone', 'Emmanuelle Riva', 'Ezra Miller', 'F. Murray Abraham', 'Forest Whitaker', 'Frank Grillo', 'Gary Oldman', 'Gerard Butler', 'Ginnifer Goodwin', 'Goran Visnjic', 'Graham McTavish', 'Hayley Atwell', 'Helen McCrory', 'Hugh Jackman', 'Idris Elba', 'Isabelle Huppert', 'J.K. Simmons', 'Jack McBrayer', 'Jack McGee', 'Jake Gyllenhaal', 'James Franco', 'James Huang', 'James Nesbitt', 'Jamey Sheridan', 'Jason Bateman', 'Jean-Louis Trintignant', 'Jeff Bridges', 'Jennifer Ehle', 'Jennifer Garner', 'Jennifer Lawrence', 'Jeremy Renner', 'Jerry Ferrara', 'Jim Parrack', 'Joe Lo Truglio', 'Joely Richardson', 'John Ratzenberger', 'Jon Favreau', 'Jon Hamm', 'Joseph Gordon-Levitt', 'Joseph Sikora', 'Josh Hutcherson', 'Judy Greer', 'Kate Burton', 'Kate Walsh', 'Katrina Bowden', 'Kevin Dunn', 'Kieran Culkin', 'Kodi Smit-McPhee', 'Kurt Fuller', 'Kyle Chandler', 'Lara Pulver', 'Leonardo DiCaprio', 'Libby Villari', 'Lindsay Duncan', 'Logan Lerman', 'Lorelei Linklater', 'Lukas Haas', 'M.C. Gainey', 'Mackenzie Foy', 'Madeline Carroll', 'Marcella Lentz-Pope', 'Mare Winningham', 'Mark Margolis', 'Mark Rylance', 'Matt Damon', 'Matt Letscher', 'Matthew McConaughey', 'Melissa Benoist', 'Melissa McMeekin', 'Merritt Wever', 'Michael Chernus', 'Michael Fassbender', 'Michael Papajohn', 'Michael Rispoli', 'Michelle Williams ', 'Mike Vogel', 'Mila Kunis', 'Mindy Kaling', 'Miranda Cosgrove', 'Morgan Freeman', 'Naomi Watts', 'Nat Wolff', 'Natalie Portman', 'Neil Brown Jr.', 'Nellie Sciutto', 'Nicole Kidman', 'Nina Arianda', 'Noah Taylor', 'Noel Clarke', 'Oliver Platt', 'Olivia Wilde', 'Owen Burke', 'Patrick Fugit', 'Peter Dinklage', 'Peter Hermann', 'Phaldut Sharma', 'Philip Seymour Hoffman', 'Phylicia Rashad', 'Phyllis Smith', 'QuvenzhanÃ© Wallis', 'R. Marcos Taylor', 'Rachel McAdams', 'Ray Winstone', 'Rebecca De Mornay', 'Rob Walker', 'Robert De Niro', 'Robert Downey Jr.', 'Robin Wright', 'Roger Allam', 'Rooney Mara', 'Rory Kinnear', 'Rupert Grint', 'Russ Tamblyn', 'Ryan Gosling', 'Ryan Reynolds', 'Sam Trammell', 'Sandra Ellis Lafferty', 'Sarah Silverman', 'Scarlett Johansson', 'Scoot McNairy', 'Scott Elrod', 'Seamus Davey-Fitzpatrick', 'Sela Ward', 'Shailene Woodley', 'Simon McBurney', 'Sonoya Mizuno', 'Sophie NÃ©lisse', 'Stefan Kapicic', 'Steve Carell', 'Steve Coogan', 'Sylvester Stallone', 'Taran Killam', 'Tate Donovan', 'Toby Jones', 'Tom Cruise', 'Tom Hanks', 'Tom Hardy', 'Tom Hollander', 'Tom Hughes', 'Tom Wilkinson', 'Treat Williams', 'Tyler Labine', 'Vin Diesel', 'Will Ferrell', 'Will Forte', 'ZoÃ« Kravitz']\n"
     ]
    }
   ],
   "source": [
    "# Combine actor names from three different columns into a single list\n",
    "all_actors = list(set(list(df['actor_1_name']) + list(df['actor_2_name']) + list(df['actor_3_name'])))\n",
    "\n",
    "# Remove any occurrences of \"0\" (assuming it represents missing or unknown data)\n",
    "all_actors.remove(\"0\")\n",
    "\n",
    "# Sort the list of actors alphabetically by the first name\n",
    "all_actors.sort()\n",
    "\n",
    "# Print the list of actors\n",
    "print(\"List of all actors in top-rated movies (sorted by first name):\")\n",
    "print(all_actors)"
   ]
  },
  {
   "cell_type": "markdown",
   "id": "9debaa8b-900a-464b-8535-77d4cc1c6eef",
   "metadata": {},
   "source": [
    "#### Task 9: The movie studio wants to determine who it should approach to act in its next movie production. Find the top 3 actors who appeared in the most top-rated movies."
   ]
  },
  {
   "cell_type": "code",
   "execution_count": 12,
   "id": "5808a219-dbfc-44c2-901a-9e8f387612e5",
   "metadata": {
    "tags": []
   },
   "outputs": [
    {
     "name": "stdout",
     "output_type": "stream",
     "text": [
      "Top 3 actors who appeared in the most top-rated movies:\n",
      "Tom Hardy            5\n",
      "Leonardo DiCaprio    5\n",
      "Jennifer Lawrence    4\n",
      "Name: count, dtype: int64\n"
     ]
    }
   ],
   "source": [
    "# Combine the actor names from three different columns into a single Series\n",
    "all_actors = pd.Series(list(df['actor_1_name']) + list(df['actor_2_name']) + list(df['actor_3_name']))\n",
    "\n",
    "# Count the occurrences of each actor's name, sort in descending order, and take the top 3\n",
    "top_actors = all_actors.value_counts(sort=True, ascending=False).head(3)\n",
    "\n",
    "# Print the top 3 actors who appeared in the most top-rated movies\n",
    "print(\"Top 3 actors who appeared in the most top-rated movies:\")\n",
    "print(top_actors)"
   ]
  },
  {
   "cell_type": "markdown",
   "id": "581d593a-300d-497c-98a7-b0d025090272",
   "metadata": {},
   "source": [
    "#### Task 10: Create a data visualization that shows each country and the number of top-rated movies produced in it. Find the country that produced the most top-rated movies."
   ]
  },
  {
   "cell_type": "code",
   "execution_count": 13,
   "id": "305cdbc3-761c-4702-8f46-d7401c135539",
   "metadata": {
    "tags": []
   },
   "outputs": [
    {
     "name": "stdout",
     "output_type": "stream",
     "text": [
      "The country that produced the most top-rated movies is: USA (81 movies)\n"
     ]
    },
    {
     "data": {
      "image/png": "[encoded data removed]",
      "text/plain": [
       "<Figure size 1200x600 with 1 Axes>"
      ]
     },
     "metadata": {},
     "output_type": "display_data"
    }
   ],
   "source": [
    "# Import the required module\n",
    "import matplotlib.pyplot as plt\n",
    "\n",
    "# First, calculate the number of top-rated movies produced in each country\n",
    "top_rated_counts = df['Country'].value_counts()\n",
    "\n",
    "# Find the country that produced the most top-rated movies\n",
    "highest_top_rated_country = top_rated_counts.idxmax()\n",
    "highest_top_rated_count = top_rated_counts.max()\n",
    "\n",
    "print(f\"The country that produced the most top-rated movies is: {highest_top_rated_country} ({highest_top_rated_count} movies)\")\n",
    "\n",
    "# Create a bar plot for visualization\n",
    "plt.figure(figsize=(12, 6))\n",
    "top_rated_counts.plot(kind='bar', rot=0)\n",
    "plt.title('Top-Rated Movies by Country')\n",
    "plt.xlabel('Country')\n",
    "plt.ylabel('Number of Top-Rated Movies')\n",
    "plt.show()"
   ]
  }
 ],
 "metadata": {
  "kernelspec": {
   "display_name": "Python 3 (ipykernel)",
   "language": "python",
   "name": "python3"
  },
  "language_info": {
   "codemirror_mode": {
    "name": "ipython",
    "version": 3
   },
   "file_extension": ".py",
   "mimetype": "text/x-python",
   "name": "python",
   "nbconvert_exporter": "python",
   "pygments_lexer": "ipython3",
   "version": "3.11.4"
  }
 },
 "nbformat": 4,
 "nbformat_minor": 5
}
